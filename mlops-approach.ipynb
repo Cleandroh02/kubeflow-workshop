{
 "cells": [
  {
   "cell_type": "code",
   "execution_count": null,
   "metadata": {},
   "outputs": [],
   "source": [
    "kfp_endpoint = 'http://localhost:8080'\n",
    "\n",
    "base_image='python:3.8'"
   ]
  },
  {
   "cell_type": "code",
   "execution_count": null,
   "metadata": {},
   "outputs": [],
   "source": [
    "\n",
    "\n",
    "import kfp\n",
    "from kfp.components import InputPath, OutputPath\n",
    "from kfp.components import func_to_container_op"
   ]
  },
  {
   "cell_type": "code",
   "execution_count": null,
   "metadata": {},
   "outputs": [],
   "source": [
    "client = kfp.Client(host=kfp_endpoint)"
   ]
  },
  {
   "cell_type": "code",
   "execution_count": null,
   "metadata": {},
   "outputs": [],
   "source": [
    "packages_to_install=[\"pandas\", \"scikit-learn\", \"matplotlib\", \"numpy\", \"joblib\", \"optuna\"]\n",
    "create_component_get = lambda x: func_to_container_op(x, base_image=base_image, packages_to_install = [\"pandas\", \"scikit-learn\"])\n",
    "create_component_train = lambda x: func_to_container_op(x, base_image=base_image, packages_to_install = packages_to_install)"
   ]
  },
  {
   "cell_type": "markdown",
   "metadata": {},
   "source": [
    "## Creating Data"
   ]
  },
  {
   "cell_type": "code",
   "execution_count": null,
   "metadata": {},
   "outputs": [],
   "source": [
    "@create_component_get\n",
    "def get_noise_date(output_path: OutputPath(str)):\n",
    "    from random import random\n",
    "    from sklearn.datasets import load_breast_cancer\n",
    "    import pandas as pd\n",
    "    data = load_breast_cancer()\n",
    "    df = pd.DataFrame(data.data, columns=data.feature_names)\n",
    "    df_fake = pd.DataFrame([random() for x in range(df.shape[0])], columns=[\"noise\"])\n",
    "    df_fake[\"target\"] = data.target\n",
    "    df_fake[\"id\"] = df[\"id\"] = df.index.values\n",
    "\n",
    "    df_fake.to_csv(output_path, index=False)\n",
    "\n",
    "\n",
    "@create_component_get\n",
    "def get_data(output_text_path: OutputPath(str)):\n",
    "    import pandas as pd\n",
    "    from sklearn.datasets import load_breast_cancer\n",
    "    import logging\n",
    "\n",
    "    logging.basicConfig(level=logging.INFO)\n",
    "    logger = logging.getLogger(__name__)\n",
    "    \n",
    "    logger.info(f'Reading data from source')\n",
    "\n",
    "    data = load_breast_cancer()\n",
    "    df = pd.DataFrame(data.data, columns=data.feature_names)\n",
    "    df['target'] = data.target\n",
    "    logger.info(f'Saving processed data to {output_text_path}')\n",
    "    df[\"id\"] = df.index.values\n",
    "\n",
    "    df.to_csv(output_text_path, index=False)"
   ]
  },
  {
   "cell_type": "code",
   "execution_count": null,
   "metadata": {},
   "outputs": [],
   "source": [
    "@create_component_get\n",
    "def get_data(output_text_path: OutputPath(str)):\n",
    "    import pandas as pd\n",
    "    from sklearn.datasets import load_breast_cancer\n",
    "    import logging\n",
    "\n",
    "    logging.basicConfig(level=logging.INFO)\n",
    "    logger = logging.getLogger(__name__)\n",
    "    \n",
    "    logger.info(f'Reading data from source')\n",
    "\n",
    "    data = load_breast_cancer()\n",
    "    df = pd.DataFrame(data.data, columns=data.feature_names)\n",
    "    df['target'] = data.target\n",
    "    logger.info(f'Saving processed data to {output_text_path}')\n",
    "    df[\"id\"] = df.index.values\n",
    "\n",
    "    df.to_csv(output_text_path, index=False)"
   ]
  },
  {
   "cell_type": "markdown",
   "metadata": {},
   "source": [
    "# Join Data"
   ]
  },
  {
   "cell_type": "code",
   "execution_count": null,
   "metadata": {},
   "outputs": [],
   "source": [
    "@create_component_get\n",
    "def join_data(data_path: InputPath(), noise_path: InputPath(), output_path: OutputPath(str)):\n",
    "    \"\"\"\n",
    "    Join multiple DataFrames based on the 'id' column while ensuring no duplicated 'id' and 'target' values.\n",
    "    \"\"\"\n",
    "    import pandas as pd\n",
    "    \n",
    "    df = pd.read_csv(data_path)\n",
    "\n",
    "    df_noise = pd.read_csv(noise_path)\n",
    "    \n",
    "    \n",
    "    \n",
    "    merged_df = pd.merge(df_noise, df, on=['id', 'target'], how='inner')\n",
    "\n",
    "    merged_df = merged_df.drop('id', axis=1)\n",
    "    merged_df.to_csv(output_path, index=False)"
   ]
  },
  {
   "cell_type": "markdown",
   "metadata": {},
   "source": [
    "# Split the Data"
   ]
  },
  {
   "cell_type": "code",
   "execution_count": null,
   "metadata": {},
   "outputs": [],
   "source": [
    "@create_component_get\n",
    "def split_data(\n",
    "    text_path: InputPath(),\n",
    "    output_train:OutputPath(str),\n",
    "    output_val:OutputPath(str),\n",
    "    output_test:OutputPath(str)\n",
    "):\n",
    "    \n",
    "    import pandas as pd\n",
    "    from sklearn.model_selection import train_test_split\n",
    "\n",
    "\n",
    "\n",
    "    df = pd.read_csv(text_path)\n",
    "    X = df.drop(columns=['target'])\n",
    "    y = df['target']\n",
    "    X_train, X_temp, y_train, y_temp = train_test_split(X, y, test_size=0.3, random_state=42)\n",
    "    X_val, X_test, y_val, y_test = train_test_split(X_temp, y_temp, test_size=0.5, random_state=42)\n",
    "    pd.concat([X_train, y_train], axis=1).to_csv(output_train, index=False)\n",
    "    pd.concat([X_val, y_val], axis=1).to_csv(output_val, index=False)\n",
    "    pd.concat([X_test, y_test], axis=1).to_csv(output_test, index=False)"
   ]
  },
  {
   "cell_type": "markdown",
   "metadata": {},
   "source": [
    "# Preprocess Data"
   ]
  },
  {
   "cell_type": "code",
   "execution_count": null,
   "metadata": {},
   "outputs": [],
   "source": [
    "@create_component_get\n",
    "def preprocess_data(input_train: InputPath(), scaled_path: OutputPath(str), scaler_path: OutputPath(str)):\n",
    "    import os\n",
    "    import pandas as pd\n",
    "    from sklearn.preprocessing import StandardScaler\n",
    "    import joblib\n",
    "\n",
    "    \n",
    "    df = pd.read_csv(input_train)\n",
    "    X = df.drop(columns=['target'])\n",
    "    y = df['target']\n",
    "    scaler = StandardScaler()\n",
    "    X_scaled = scaler.fit_transform(X)\n",
    "    df_scaled = pd.concat([pd.DataFrame(X_scaled, columns=X.columns), y], axis=1)\n",
    "    df_scaled.to_csv(scaled_path, index=False)\n",
    "\n",
    "    joblib.dump(scaler, scaler_path)"
   ]
  },
  {
   "cell_type": "markdown",
   "metadata": {},
   "source": [
    "# Train the Model"
   ]
  },
  {
   "cell_type": "code",
   "execution_count": null,
   "metadata": {},
   "outputs": [],
   "source": [
    "@create_component_train\n",
    "def train_model(input_train: InputPath(), input_val: InputPath(), scaler_path:InputPath(), model_path: OutputPath(str), num_of_trial: int = 100):\n",
    "\n",
    "    import joblib\n",
    "    import optuna\n",
    "    import pandas as pd\n",
    "    from sklearn.pipeline import Pipeline\n",
    "    from sklearn.linear_model import LogisticRegression\n",
    "    from sklearn.ensemble import RandomForestClassifier\n",
    "    from sklearn.metrics import accuracy_score\n",
    "    \n",
    "    import logging\n",
    "\n",
    "    logging.basicConfig(level=logging.INFO)\n",
    "    logger = logging.getLogger(__name__)\n",
    "    \n",
    "    logger.info(f'Reading data from source')\n",
    "\n",
    "    df_train= pd.read_csv(input_train)\n",
    "    X_train = df_train.drop(columns=['target'])\n",
    "    y_train = df_train['target']\n",
    "\n",
    "    df_val= pd.read_csv(input_val)\n",
    "    X_val = df_val.drop(columns=['target'])\n",
    "    y_val = df_val['target']\n",
    "\n",
    "    logger.info(f'Reading Scaler')\n",
    "\n",
    "    scaler = joblib.load(scaler_path)\n",
    "    \n",
    "    # Scale the data\n",
    "    X_train_scaled = scaler.transform(X_train)\n",
    "    X_val_scaled = scaler.transform(X_val)\n",
    "\n",
    "    # Define the objective function for Optuna\n",
    "    def objective(trial):\n",
    "        model_name = trial.suggest_categorical('model', ['LogisticRegression', 'RandomForest'])\n",
    "\n",
    "        if model_name == 'LogisticRegression':\n",
    "            C = trial.suggest_float('C', 1e-4, 1e2, log=True)\n",
    "            l1_ratio = trial.suggest_float('l1_ratio', 0, 1)\n",
    "\n",
    "            model = LogisticRegression(\n",
    "                penalty='elasticnet', \n",
    "                C=C, \n",
    "                solver = 'saga',\n",
    "                l1_ratio=l1_ratio\n",
    "            )\n",
    "        \n",
    "        else: \n",
    "            n_estimators = trial.suggest_int('n_estimators', 10, 100)\n",
    "            max_depth = trial.suggest_int('max_depth', 2, 8)\n",
    "            min_samples_split = trial.suggest_int('min_samples_split', 2, 10)\n",
    "            model = RandomForestClassifier(\n",
    "                n_estimators=n_estimators,\n",
    "                max_depth=max_depth,\n",
    "                min_samples_split=min_samples_split\n",
    "            )\n",
    "\n",
    "        model.fit(X_train_scaled, y_train)\n",
    "        y_pred = model.predict(X_val_scaled)\n",
    "        accuracy = accuracy_score(y_val, y_pred)\n",
    "\n",
    "        logger.info(\"*\"*30)\n",
    "        logger.info(f'{model}')\n",
    "        logger.info(\"*\"*30)\n",
    "        logger.info(f\"accuracy {accuracy}\")\n",
    "        \n",
    "        return accuracy\n",
    "\n",
    "    logger.info(f'Hiperparameter tunning')\n",
    "    \n",
    "    study = optuna.create_study(direction='maximize')\n",
    "    study.optimize(objective, n_trials=num_of_trial)\n",
    "\n",
    "    # Get the best model\n",
    "    best_trial = study.best_trial\n",
    "    if best_trial.params['model'] == 'LogisticRegression':\n",
    "            best_model = LogisticRegression(\n",
    "                penalty='elasticnet',\n",
    "                C=best_trial.params['C'],\n",
    "                solver='saga',\n",
    "                l1_ratio=best_trial.params['l1_ratio']\n",
    "            )\n",
    "    else:\n",
    "        best_model = RandomForestClassifier(\n",
    "            n_estimators=best_trial.params['n_estimators'],\n",
    "            max_depth=best_trial.params['max_depth'],\n",
    "            min_samples_split=best_trial.params['min_samples_split']\n",
    "        )\n",
    "\n",
    "    \n",
    "    final_pipeline = Pipeline([\n",
    "        ('scaler', scaler),\n",
    "        ('model', best_model)\n",
    "    ])\n",
    "\n",
    "    # Train the final pipeline on the full training data\n",
    "    final_pipeline.fit(X_train, y_train)\n",
    "\n",
    "    # Evaluate the model on the validation data\n",
    "    y_val_pred = final_pipeline.predict(X_val)\n",
    "    val_accuracy = accuracy_score(y_val, y_val_pred)\n",
    "\n",
    "    logging.info(f\"Best model parameters: {best_trial.params}\")\n",
    "    logging.info(f\"Validation accuracy: {val_accuracy}\")\n",
    "\n",
    "    logging.info(f\"Saving model at: {model_path}\")\n",
    "\n",
    "    joblib.dump(final_pipeline, model_path)\n",
    "\n"
   ]
  },
  {
   "cell_type": "markdown",
   "metadata": {},
   "source": [
    "# Define the Pipeline"
   ]
  },
  {
   "cell_type": "code",
   "execution_count": null,
   "metadata": {},
   "outputs": [],
   "source": [
    "def training_pipeline():\n",
    "    repeat_lines_task = get_data()\n",
    "    noise_data = get_noise_date()\n",
    "    join_task = join_data(repeat_lines_task.output, noise_data.output)\n",
    "    split_task = split_data(join_task.output)\n",
    "    preprocess_data_task = preprocess_data(split_task.outputs[\"output_train\"])\n",
    "    train_model(split_task.outputs[\"output_train\"], split_task.outputs[\"output_val\"], preprocess_data_task.outputs[\"scaler\"])"
   ]
  },
  {
   "cell_type": "markdown",
   "metadata": {},
   "source": [
    "# Execute a single run of the Pipeline"
   ]
  },
  {
   "cell_type": "code",
   "execution_count": null,
   "metadata": {},
   "outputs": [],
   "source": [
    "kfp.Client(host=kfp_endpoint).create_run_from_pipeline_func(training_pipeline, arguments={})"
   ]
  },
  {
   "cell_type": "markdown",
   "metadata": {},
   "source": [
    "# Compile the Pipeline"
   ]
  },
  {
   "cell_type": "code",
   "execution_count": null,
   "metadata": {},
   "outputs": [],
   "source": [
    "pipeline_path = 'training_pipeline.yaml'\n",
    "kfp.compiler.Compiler().compile(\n",
    "            pipeline_func=training_pipeline,\n",
    "            package_path=pipeline_path\n",
    "            \n",
    "        )"
   ]
  },
  {
   "cell_type": "markdown",
   "metadata": {},
   "source": [
    "# Upload the Pipeline"
   ]
  },
  {
   "cell_type": "code",
   "execution_count": null,
   "metadata": {},
   "outputs": [],
   "source": [
    "pipeline = client.upload_pipeline(\n",
    "    pipeline_package_path=pipeline_path,\n",
    "    pipeline_name='Training Pipeline'\n",
    ")"
   ]
  }
 ],
 "metadata": {
  "kernelspec": {
   "display_name": ".venv",
   "language": "python",
   "name": "python3"
  },
  "language_info": {
   "codemirror_mode": {
    "name": "ipython",
    "version": 3
   },
   "file_extension": ".py",
   "mimetype": "text/x-python",
   "name": "python",
   "nbconvert_exporter": "python",
   "pygments_lexer": "ipython3",
   "version": "3.8.19"
  }
 },
 "nbformat": 4,
 "nbformat_minor": 2
}
