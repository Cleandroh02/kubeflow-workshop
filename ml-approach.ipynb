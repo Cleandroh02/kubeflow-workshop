{
 "cells": [
  {
   "cell_type": "code",
   "execution_count": null,
   "metadata": {},
   "outputs": [],
   "source": [
    "from random import random\n",
    "from sklearn.datasets import load_breast_cancer\n",
    "import pandas as pd\n"
   ]
  },
  {
   "cell_type": "markdown",
   "metadata": {},
   "source": [
    "# Get Data"
   ]
  },
  {
   "cell_type": "code",
   "execution_count": null,
   "metadata": {},
   "outputs": [],
   "source": [
    "def get_noise_date():\n",
    "    data = load_breast_cancer()\n",
    "    df = pd.DataFrame(data.data, columns=data.feature_names)\n",
    "    df_fake = pd.DataFrame([random() for x in range(df.shape[0])], columns=[\"noise\"])\n",
    "    df_fake[\"target\"] = data.target\n",
    "    df_fake[\"id\"] = df[\"id\"] = df.index.values\n",
    "\n",
    "    return df_fake\n",
    "\n",
    "def get_data():\n",
    "    data = load_breast_cancer()\n",
    "    df = pd.DataFrame(data.data, columns=data.feature_names)\n",
    "    df['target'] = data.target\n",
    "    df[\"id\"] = df.index.values\n",
    "\n",
    "    return df"
   ]
  },
  {
   "cell_type": "code",
   "execution_count": null,
   "metadata": {},
   "outputs": [],
   "source": [
    "df_fake = get_noise_date()\n",
    "df = get_data()"
   ]
  },
  {
   "cell_type": "markdown",
   "metadata": {},
   "source": [
    "# Join Data"
   ]
  },
  {
   "cell_type": "code",
   "execution_count": null,
   "metadata": {},
   "outputs": [],
   "source": [
    "def join_data(df1, df2):\n",
    "    \"\"\"\n",
    "    Join multiple DataFrames based on the 'id' column while ensuring no duplicated 'id' and 'target' values.\n",
    "    \"\"\"\n",
    "    \n",
    "    \n",
    "    \n",
    "    merged_df = pd.merge(df1, df2, on=['id', 'target'], how='inner')\n",
    "\n",
    "    merged_df = merged_df.drop('id', axis=1)\n",
    "    return merged_df"
   ]
  },
  {
   "cell_type": "code",
   "execution_count": null,
   "metadata": {},
   "outputs": [],
   "source": [
    "merged_df = join_data(df, df_fake)\n",
    "\n",
    "merged_df.head()"
   ]
  },
  {
   "cell_type": "markdown",
   "metadata": {},
   "source": [
    "# Split Data Into Train, Val y Test"
   ]
  },
  {
   "cell_type": "code",
   "execution_count": null,
   "metadata": {},
   "outputs": [],
   "source": [
    "from sklearn.model_selection import train_test_split"
   ]
  },
  {
   "cell_type": "code",
   "execution_count": null,
   "metadata": {},
   "outputs": [],
   "source": [
    "def split_data(df):\n",
    "    X = df.drop(columns=['target'])\n",
    "    y = df['target']\n",
    "    X_train, X_temp, y_train, y_temp = train_test_split(X, y, test_size=0.3, random_state=42)\n",
    "    X_val, X_test, y_val, y_test = train_test_split(X_temp, y_temp, test_size=0.5, random_state=42)\n",
    "    df_train = pd.concat([X_train, y_train], axis=1)\n",
    "    df_val = pd.concat([X_val, y_val], axis=1)\n",
    "    df_test = pd.concat([X_test, y_test], axis=1)\n",
    "\n",
    "    return df_train, df_val, df_test"
   ]
  },
  {
   "cell_type": "code",
   "execution_count": null,
   "metadata": {},
   "outputs": [],
   "source": [
    "df_train, df_val, df_test = split_data(merged_df)"
   ]
  },
  {
   "cell_type": "code",
   "execution_count": null,
   "metadata": {},
   "outputs": [],
   "source": [
    "merged_df.shape"
   ]
  },
  {
   "cell_type": "code",
   "execution_count": null,
   "metadata": {},
   "outputs": [],
   "source": [
    "df_train.shape\n"
   ]
  },
  {
   "cell_type": "markdown",
   "metadata": {},
   "source": [
    "# Preprocess Data"
   ]
  },
  {
   "cell_type": "code",
   "execution_count": null,
   "metadata": {},
   "outputs": [],
   "source": [
    "from sklearn.preprocessing import StandardScaler\n",
    "import joblib"
   ]
  },
  {
   "cell_type": "code",
   "execution_count": null,
   "metadata": {},
   "outputs": [],
   "source": [
    "\n",
    "def preprocess_data(df_train):\n",
    "    X = df_train.drop(columns=['target'])\n",
    "    y = df_train['target']\n",
    "    scaler = StandardScaler()\n",
    "    X_scaled = scaler.fit_transform(X)\n",
    "    df_scaled = pd.concat([pd.DataFrame(X_scaled, columns=X.columns), y], axis=1)\n",
    "\n",
    "    return df_scaled, scaler\n",
    "\n",
    "\n",
    "df_scaled, scaler = preprocess_data(df_train)"
   ]
  },
  {
   "cell_type": "markdown",
   "metadata": {},
   "source": [
    "# Training  (Hyperparameter tuning)"
   ]
  },
  {
   "cell_type": "code",
   "execution_count": null,
   "metadata": {},
   "outputs": [],
   "source": [
    "import optuna\n",
    "from sklearn.pipeline import Pipeline\n",
    "from sklearn.linear_model import LogisticRegression\n",
    "from sklearn.ensemble import RandomForestClassifier\n",
    "from sklearn.metrics import accuracy_score"
   ]
  },
  {
   "cell_type": "code",
   "execution_count": null,
   "metadata": {},
   "outputs": [],
   "source": [
    "def train_model(df_train, df_val,  scaler, num_of_trials: int = 100):\n",
    "\n",
    "    X_train = df_train.drop(columns=['target'])\n",
    "    y_train = df_train['target']\n",
    "\n",
    "\n",
    "    X_val = df_val.drop(columns=['target'])\n",
    "    y_val = df_val['target']\n",
    "\n",
    "    \n",
    "    # Scale the data\n",
    "    X_train_scaled = scaler.transform(X_train)\n",
    "    X_val_scaled = scaler.transform(X_val)\n",
    "\n",
    "    # Define the objective function for Optuna\n",
    "    def objective(trial):\n",
    "        model_name = trial.suggest_categorical('model', ['LogisticRegression', 'RandomForest'])\n",
    "\n",
    "        if model_name == 'LogisticRegression':\n",
    "            C = trial.suggest_float('C', 1e-4, 1e2, log=True)\n",
    "            l1_ratio = trial.suggest_float('l1_ratio', 0, 1)\n",
    "\n",
    "            model = LogisticRegression(\n",
    "                penalty='elasticnet', \n",
    "                C=C, \n",
    "                solver = 'saga',\n",
    "                l1_ratio=l1_ratio\n",
    "            )\n",
    "        \n",
    "        else: \n",
    "            n_estimators = trial.suggest_int('n_estimators', 10, 100)\n",
    "            max_depth = trial.suggest_int('max_depth', 2, 8)\n",
    "            min_samples_split = trial.suggest_int('min_samples_split', 2, 10)\n",
    "            model = RandomForestClassifier(\n",
    "                n_estimators=n_estimators,\n",
    "                max_depth=max_depth,\n",
    "                min_samples_split=min_samples_split\n",
    "            )\n",
    "\n",
    "        model.fit(X_train_scaled, y_train)\n",
    "        y_pred = model.predict(X_val_scaled)\n",
    "        accuracy = accuracy_score(y_val, y_pred)\n",
    "        \n",
    "        return accuracy\n",
    "\n",
    "    \n",
    "    study = optuna.create_study(direction='maximize')\n",
    "    study.optimize(objective, n_trials=num_of_trials)\n",
    "\n",
    "    best_trial = study.best_trial\n",
    "    if best_trial.params['model'] == 'LogisticRegression':\n",
    "            best_model = LogisticRegression(\n",
    "                penalty='elasticnet',\n",
    "                C=best_trial.params['C'],\n",
    "                solver='saga',\n",
    "                l1_ratio=best_trial.params['l1_ratio']\n",
    "            )\n",
    "    else:\n",
    "        best_model = RandomForestClassifier(\n",
    "            n_estimators=best_trial.params['n_estimators'],\n",
    "            max_depth=best_trial.params['max_depth'],\n",
    "            min_samples_split=best_trial.params['min_samples_split']\n",
    "        )\n",
    "\n",
    "    \n",
    "    final_pipeline = Pipeline([\n",
    "        ('scaler', scaler),\n",
    "        ('model', best_model)\n",
    "    ])\n",
    "\n",
    "    # Train the final pipeline on the full training data\n",
    "    final_pipeline.fit(X_train, y_train)\n",
    "\n",
    "\n",
    "\n",
    "    # Evaluate the model on the validation data\n",
    "    y_val_pred = final_pipeline.predict(X_val)\n",
    "    val_accuracy = accuracy_score(y_val, y_val_pred)\n",
    "\n",
    "    return final_pipeline, val_accuracy\n",
    "\n",
    "\n"
   ]
  },
  {
   "cell_type": "code",
   "execution_count": null,
   "metadata": {},
   "outputs": [],
   "source": [
    "final_pipeline, val_accuracy = train_model(df_train, df_val,  scaler, num_of_trials=50)"
   ]
  },
  {
   "cell_type": "markdown",
   "metadata": {},
   "source": [
    "# Evaluate the model"
   ]
  },
  {
   "cell_type": "code",
   "execution_count": null,
   "metadata": {},
   "outputs": [],
   "source": [
    "def evaluatetrain_model(df_train, df_test, model):\n",
    "\n",
    "    X_train = df_train.drop(columns=['target'])\n",
    "    y_train = df_train['target']\n",
    "\n",
    "    X_test= df_test.drop(columns=['target'])\n",
    "    y_test = df_test['target']\n",
    "\n",
    "    y_train_pred = model.predict(X_train)\n",
    "    train_accuracy = accuracy_score(y_train, y_train_pred)\n",
    "\n",
    "    y_test_pred = model.predict(X_test)\n",
    "    test_accuracy = accuracy_score(y_test, y_test_pred)\n",
    "\n",
    "    return train_accuracy, test_accuracy\n",
    "\n",
    "\n",
    "\n",
    "\n",
    "    "
   ]
  },
  {
   "cell_type": "code",
   "execution_count": null,
   "metadata": {},
   "outputs": [],
   "source": [
    "train_accuracy, test_accuracy = evaluatetrain_model(df_train, df_test, final_pipeline)"
   ]
  },
  {
   "cell_type": "code",
   "execution_count": null,
   "metadata": {},
   "outputs": [],
   "source": [
    "print(train_accuracy)\n",
    "print(test_accuracy)"
   ]
  },
  {
   "cell_type": "code",
   "execution_count": null,
   "metadata": {},
   "outputs": [],
   "source": []
  }
 ],
 "metadata": {
  "kernelspec": {
   "display_name": ".venv",
   "language": "python",
   "name": "python3"
  },
  "language_info": {
   "codemirror_mode": {
    "name": "ipython",
    "version": 3
   },
   "file_extension": ".py",
   "mimetype": "text/x-python",
   "name": "python",
   "nbconvert_exporter": "python",
   "pygments_lexer": "ipython3",
   "version": "3.8.19"
  }
 },
 "nbformat": 4,
 "nbformat_minor": 2
}
